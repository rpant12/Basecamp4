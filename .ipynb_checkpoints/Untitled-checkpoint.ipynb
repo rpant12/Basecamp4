{
 "cells": [
  {
   "cell_type": "code",
   "execution_count": 11,
   "id": "0edbacdb-f3b4-4912-9eb4-0e735a82c843",
   "metadata": {},
   "outputs": [],
   "source": [
    "import pandas as pd\n",
    "import json\n",
    "import numpy as np"
   ]
  },
  {
   "cell_type": "code",
   "execution_count": 4,
   "id": "91a4e1a6-5f85-4b3a-b1cc-04b717cfe954",
   "metadata": {},
   "outputs": [],
   "source": [
    "raws = pd.read_csv(\"raws.csv\")"
   ]
  },
  {
   "cell_type": "code",
   "execution_count": null,
   "id": "c39bb6ef-a85b-4327-90f1-a71be893e940",
   "metadata": {},
   "outputs": [],
   "source": [
    "info = pd.DataFrame()"
   ]
  },
  {
   "cell_type": "code",
   "execution_count": null,
   "id": "841344ac-8a30-40c2-9ef8-4e6665a83c58",
   "metadata": {},
   "outputs": [],
   "source": [
    "for i in range(raws.shape[0]):\n",
    "    data = pd.DataFrame(json.loads(raws[[\"RAW\"]].iloc[i].values[0])).reset_index(drop = True)\n",
    "    info = pd.append([info, data])"
   ]
  },
  {
   "cell_type": "code",
   "execution_count": 17,
   "id": "75972a00-c6b4-4abe-8599-7e72e7ef6493",
   "metadata": {},
   "outputs": [
    {
     "data": {
      "text/plain": [
       "(35824, 4)"
      ]
     },
     "execution_count": 17,
     "metadata": {},
     "output_type": "execute_result"
    }
   ],
   "source": [
    "raws.shape"
   ]
  },
  {
   "cell_type": "code",
   "execution_count": 16,
   "id": "5e0e53d2-2f62-4d03-879f-48921ba6cd41",
   "metadata": {},
   "outputs": [
    {
     "data": {
      "text/html": [
       "<div>\n",
       "<style scoped>\n",
       "    .dataframe tbody tr th:only-of-type {\n",
       "        vertical-align: middle;\n",
       "    }\n",
       "\n",
       "    .dataframe tbody tr th {\n",
       "        vertical-align: top;\n",
       "    }\n",
       "\n",
       "    .dataframe thead th {\n",
       "        text-align: right;\n",
       "    }\n",
       "</style>\n",
       "<table border=\"1\" class=\"dataframe\">\n",
       "  <thead>\n",
       "    <tr style=\"text-align: right;\">\n",
       "      <th></th>\n",
       "      <th>asset</th>\n",
       "      <th>asset_tag</th>\n",
       "      <th>assigned</th>\n",
       "      <th>assigned_to</th>\n",
       "      <th>assignment_group</th>\n",
       "      <th>attestation_score</th>\n",
       "      <th>attestation_status</th>\n",
       "      <th>attested</th>\n",
       "      <th>attested_by</th>\n",
       "      <th>attested_date</th>\n",
       "      <th>...</th>\n",
       "      <th>x_fls_flexera_fnms_is_deleted_v2</th>\n",
       "      <th>x_fls_flexera_fnms_last_logged_in_user</th>\n",
       "      <th>x_fls_flexera_fnms_normalized_cpu_manufacturer</th>\n",
       "      <th>x_fls_flexera_fnms_normalized_cpu_name</th>\n",
       "      <th>x_fls_flexera_fnms_normalized_cpu_speed</th>\n",
       "      <th>x_fls_flexera_fnms_normalized_manufacturer</th>\n",
       "      <th>x_fls_flexera_fnms_normalized_model_number</th>\n",
       "      <th>x_fls_flexera_fnms_normalized_operating_system</th>\n",
       "      <th>x_fls_flexera_fnms_normalized_os_service_pack</th>\n",
       "      <th>x_fls_flexera_fnms_normalized_os_version</th>\n",
       "    </tr>\n",
       "  </thead>\n",
       "  <tbody>\n",
       "    <tr>\n",
       "      <th>0</th>\n",
       "      <td></td>\n",
       "      <td></td>\n",
       "      <td></td>\n",
       "      <td></td>\n",
       "      <td></td>\n",
       "      <td></td>\n",
       "      <td>Not Yet Reviewed</td>\n",
       "      <td>false</td>\n",
       "      <td></td>\n",
       "      <td></td>\n",
       "      <td>...</td>\n",
       "      <td>false</td>\n",
       "      <td></td>\n",
       "      <td></td>\n",
       "      <td></td>\n",
       "      <td></td>\n",
       "      <td></td>\n",
       "      <td></td>\n",
       "      <td></td>\n",
       "      <td></td>\n",
       "      <td></td>\n",
       "    </tr>\n",
       "    <tr>\n",
       "      <th>1</th>\n",
       "      <td></td>\n",
       "      <td></td>\n",
       "      <td></td>\n",
       "      <td></td>\n",
       "      <td></td>\n",
       "      <td></td>\n",
       "      <td>Not Yet Reviewed</td>\n",
       "      <td>false</td>\n",
       "      <td></td>\n",
       "      <td></td>\n",
       "      <td>...</td>\n",
       "      <td>false</td>\n",
       "      <td></td>\n",
       "      <td></td>\n",
       "      <td></td>\n",
       "      <td></td>\n",
       "      <td></td>\n",
       "      <td></td>\n",
       "      <td></td>\n",
       "      <td></td>\n",
       "      <td></td>\n",
       "    </tr>\n",
       "  </tbody>\n",
       "</table>\n",
       "<p>2 rows × 160 columns</p>\n",
       "</div>"
      ],
      "text/plain": [
       "  asset asset_tag assigned assigned_to assignment_group attestation_score  \\\n",
       "0                                                                           \n",
       "1                                                                           \n",
       "\n",
       "  attestation_status attested attested_by attested_date  ...  \\\n",
       "0   Not Yet Reviewed    false                            ...   \n",
       "1   Not Yet Reviewed    false                            ...   \n",
       "\n",
       "  x_fls_flexera_fnms_is_deleted_v2 x_fls_flexera_fnms_last_logged_in_user  \\\n",
       "0                            false                                          \n",
       "1                            false                                          \n",
       "\n",
       "  x_fls_flexera_fnms_normalized_cpu_manufacturer  \\\n",
       "0                                                  \n",
       "1                                                  \n",
       "\n",
       "  x_fls_flexera_fnms_normalized_cpu_name  \\\n",
       "0                                          \n",
       "1                                          \n",
       "\n",
       "  x_fls_flexera_fnms_normalized_cpu_speed  \\\n",
       "0                                           \n",
       "1                                           \n",
       "\n",
       "  x_fls_flexera_fnms_normalized_manufacturer  \\\n",
       "0                                              \n",
       "1                                              \n",
       "\n",
       "  x_fls_flexera_fnms_normalized_model_number  \\\n",
       "0                                              \n",
       "1                                              \n",
       "\n",
       "  x_fls_flexera_fnms_normalized_operating_system  \\\n",
       "0                                                  \n",
       "1                                                  \n",
       "\n",
       "  x_fls_flexera_fnms_normalized_os_service_pack  \\\n",
       "0                                                 \n",
       "1                                                 \n",
       "\n",
       "  x_fls_flexera_fnms_normalized_os_version  \n",
       "0                                           \n",
       "1                                           \n",
       "\n",
       "[2 rows x 160 columns]"
      ]
     },
     "execution_count": 16,
     "metadata": {},
     "output_type": "execute_result"
    }
   ],
   "source": [
    "pd.DataFrame(json.loads(raws[[\"RAW\"]].iloc[0].values[0])).reset_index(drop = True)"
   ]
  }
 ],
 "metadata": {
  "kernelspec": {
   "display_name": "Python 3 (ipykernel)",
   "language": "python",
   "name": "python3"
  },
  "language_info": {
   "codemirror_mode": {
    "name": "ipython",
    "version": 3
   },
   "file_extension": ".py",
   "mimetype": "text/x-python",
   "name": "python",
   "nbconvert_exporter": "python",
   "pygments_lexer": "ipython3",
   "version": "3.12.7"
  }
 },
 "nbformat": 4,
 "nbformat_minor": 5
}
